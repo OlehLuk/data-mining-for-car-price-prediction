{
 "cells": [
  {
   "cell_type": "markdown",
   "metadata": {},
   "source": [
    "# Collect data using API"
   ]
  },
  {
   "cell_type": "markdown",
   "metadata": {},
   "source": [
    "## Plan:\n",
    "1. Collect ids for all available car ads\n",
    "2. Get info about each car by id"
   ]
  },
  {
   "cell_type": "code",
   "execution_count": 1,
   "metadata": {},
   "outputs": [],
   "source": [
    "import requests\n",
    "import time\n",
    "import random\n",
    "import json\n",
    "import re\n",
    "import sys"
   ]
  },
  {
   "cell_type": "code",
   "execution_count": 2,
   "metadata": {},
   "outputs": [],
   "source": [
    "api_key = ''#put your API key here\n",
    "get_ids_str = 'https://developers.ria.com/auto/search?api_key=' + api_key + '&category_id=1&countpage=100&currency=1&' \\\n",
    "+ 'abroad=2&sellerType=1&damage=0&under_credit=0&confiscated_car=0&price_ot=100&price_do=100000' + \\\n",
    "'&engineVolumeFrom=0.1&engineVolumeTo=10&type[0]=1&type[1]=2&type[2]=5&type[3]=6&type[4]=3' + \\\n",
    "'&custom=1&page='\n",
    "\n",
    "get_car_str = 'https://developers.ria.com/auto/info?api_key=' + api_key + '&auto_id='"
   ]
  },
  {
   "cell_type": "markdown",
   "metadata": {},
   "source": [
    "## Step 0. Load already availible ids and last page_id"
   ]
  },
  {
   "cell_type": "code",
   "execution_count": 3,
   "metadata": {},
   "outputs": [],
   "source": [
    "retrieved_ids = open(\"data/already_retrieved.txt\", \"r\")"
   ]
  },
  {
   "cell_type": "code",
   "execution_count": 4,
   "metadata": {},
   "outputs": [],
   "source": [
    "ids_str = retrieved_ids.read()"
   ]
  },
  {
   "cell_type": "code",
   "execution_count": 5,
   "metadata": {},
   "outputs": [
    {
     "data": {
      "text/plain": [
       "0"
      ]
     },
     "execution_count": 5,
     "metadata": {},
     "output_type": "execute_result"
    }
   ],
   "source": [
    "len(ids_str.splitlines())"
   ]
  },
  {
   "cell_type": "code",
   "execution_count": 6,
   "metadata": {},
   "outputs": [],
   "source": [
    "already_retreived = set(ids_str.splitlines())\n",
    "retrieved_ids.close()"
   ]
  },
  {
   "cell_type": "code",
   "execution_count": 7,
   "metadata": {},
   "outputs": [],
   "source": [
    "last_page_id = open('data/last_page.txt', 'r')\n",
    "ids_str = last_page_id.read()\n",
    "ids_str = ids_str.splitlines()\n",
    "page = 0\n",
    "if len(ids_str) != 0:\n",
    "    page = int(ids_str[-1])\n",
    "last_page_id.close()"
   ]
  },
  {
   "cell_type": "code",
   "execution_count": 8,
   "metadata": {},
   "outputs": [
    {
     "data": {
      "text/plain": [
       "0"
      ]
     },
     "execution_count": 8,
     "metadata": {},
     "output_type": "execute_result"
    }
   ],
   "source": [
    "page"
   ]
  },
  {
   "cell_type": "code",
   "execution_count": 9,
   "metadata": {},
   "outputs": [
    {
     "data": {
      "text/plain": [
       "0"
      ]
     },
     "execution_count": 9,
     "metadata": {},
     "output_type": "execute_result"
    }
   ],
   "source": [
    "len(already_retreived)"
   ]
  },
  {
   "cell_type": "markdown",
   "metadata": {},
   "source": [
    "## Step 1. get ids of availible cars"
   ]
  },
  {
   "cell_type": "code",
   "execution_count": 10,
   "metadata": {},
   "outputs": [
    {
     "name": "stdout",
     "output_type": "stream",
     "text": [
      "https://developers.ria.com/auto/search?api_key=8rAuqdgyiS0ytCM3cOd06Xgyw79211tC1lth5PfZ&category_id=1&countpage=100&currency=1&abroad=2&sellerType=1&damage=0&under_credit=0&confiscated_car=0&price_ot=100&price_do=100000&engineVolumeFrom=0.1&engineVolumeTo=10&type[0]=1&type[1]=2&type[2]=5&type[3]=6&type[4]=3&custom=1&page=0\n",
      "request №0 was sent\n",
      "200\n",
      "https://developers.ria.com/auto/search?api_key=8rAuqdgyiS0ytCM3cOd06Xgyw79211tC1lth5PfZ&category_id=1&countpage=100&currency=1&abroad=2&sellerType=1&damage=0&under_credit=0&confiscated_car=0&price_ot=100&price_do=100000&engineVolumeFrom=0.1&engineVolumeTo=10&type[0]=1&type[1]=2&type[2]=5&type[3]=6&type[4]=3&custom=1&page=1\n",
      "request №1 was sent\n",
      "200\n",
      "https://developers.ria.com/auto/search?api_key=8rAuqdgyiS0ytCM3cOd06Xgyw79211tC1lth5PfZ&category_id=1&countpage=100&currency=1&abroad=2&sellerType=1&damage=0&under_credit=0&confiscated_car=0&price_ot=100&price_do=100000&engineVolumeFrom=0.1&engineVolumeTo=10&type[0]=1&type[1]=2&type[2]=5&type[3]=6&type[4]=3&custom=1&page=2\n",
      "request №2 was sent\n",
      "200\n",
      "https://developers.ria.com/auto/search?api_key=8rAuqdgyiS0ytCM3cOd06Xgyw79211tC1lth5PfZ&category_id=1&countpage=100&currency=1&abroad=2&sellerType=1&damage=0&under_credit=0&confiscated_car=0&price_ot=100&price_do=100000&engineVolumeFrom=0.1&engineVolumeTo=10&type[0]=1&type[1]=2&type[2]=5&type[3]=6&type[4]=3&custom=1&page=3\n",
      "request №3 was sent\n",
      "200\n",
      "https://developers.ria.com/auto/search?api_key=8rAuqdgyiS0ytCM3cOd06Xgyw79211tC1lth5PfZ&category_id=1&countpage=100&currency=1&abroad=2&sellerType=1&damage=0&under_credit=0&confiscated_car=0&price_ot=100&price_do=100000&engineVolumeFrom=0.1&engineVolumeTo=10&type[0]=1&type[1]=2&type[2]=5&type[3]=6&type[4]=3&custom=1&page=4\n",
      "request №4 was sent\n",
      "200\n"
     ]
    }
   ],
   "source": [
    "retrieved_ids_file = open(\"data/already_retrieved.txt\", \"a\")\n",
    "last_page_file = open('data/last_page.txt', 'a')\n",
    "\n",
    "try:\n",
    "\n",
    "    while page < 5: #use max_page here for the whole process. +5 is for demo. and be patient ;)\n",
    "\n",
    "        getstr = get_ids_str + str(page)\n",
    "        print(getstr)\n",
    "        resp = requests.get(getstr)\n",
    "\n",
    "        print('request №' + str(page) + ' was sent')\n",
    "        print(resp.status_code)\n",
    "\n",
    "        if resp.status_code != 200:\n",
    "            resp.close()\n",
    "            break\n",
    "        else:\n",
    "            ids = resp.json()['result']['search_result']['ids']\n",
    "            for ido in ids:\n",
    "                if not (ido in already_retreived):\n",
    "                    retrieved_ids_file.write(ido)\n",
    "                    retrieved_ids_file.write('\\n')\n",
    "                    already_retreived.add(ido)\n",
    "            resp.close()\n",
    "        page += 1\n",
    "        time.sleep(0.3)\n",
    "finally:\n",
    "    last_page_file.write(str(page))\n",
    "    last_page_file.write('\\n')\n",
    "    last_page_file.flush()\n",
    "    last_page_file.close()\n",
    "    retrieved_ids_file.flush()\n",
    "    retrieved_ids_file.close()"
   ]
  },
  {
   "cell_type": "code",
   "execution_count": 11,
   "metadata": {},
   "outputs": [
    {
     "data": {
      "text/plain": [
       "5"
      ]
     },
     "execution_count": 11,
     "metadata": {},
     "output_type": "execute_result"
    }
   ],
   "source": [
    "page"
   ]
  },
  {
   "cell_type": "markdown",
   "metadata": {},
   "source": [
    "## Step 2. Get info about cars"
   ]
  },
  {
   "cell_type": "markdown",
   "metadata": {},
   "source": [
    "### Write functions for processing and writing data\n",
    "\n",
    "* **why random id?**\n",
    "* **Should we write raw info?**"
   ]
  },
  {
   "cell_type": "code",
   "execution_count": 12,
   "metadata": {},
   "outputs": [],
   "source": [
    "def get_random_id_and_del_from_list(ids_list):\n",
    "    if(len(ids_list) != 0):\n",
    "        i = random.randint(0, len(ids_list)-1)\n",
    "        print(i)\n",
    "        ido = ids_list[i]\n",
    "        del ids_list[i]\n",
    "        return ido\n",
    "    else:\n",
    "        return _\n",
    "\n",
    "def write_raw_info(ido, json_info, path):\n",
    "    raw_info_file = open(path+ido+'.json', \"w\", encoding='utf-8')\n",
    "    json.dump(json_info,raw_info_file, ensure_ascii=False)\n",
    "    raw_info_file.close()\n",
    "    return _\n",
    "            \n",
    "    \n",
    "def add_info_to_csv(ido, dict_info, file):\n",
    "    USD = str(dict_info['USD'])\n",
    "    markName = dict_info['markName']\n",
    "    \n",
    "    modelName = dict_info['modelName']\n",
    "    \n",
    "    try:\n",
    "        markNameEng = dict_info['markNameEng']\n",
    "    except:\n",
    "        markNameEng = dict_info['markName'].lower().replace(' ', '-')\n",
    "    \n",
    "    try:\n",
    "        modelNameEng = dict_info['modelNameEng']\n",
    "    except:\n",
    "        modelNameEng = dict_info['modelName'].lower().replace(' ', '-')\n",
    "   \n",
    "    \n",
    "    try:\n",
    "        raceInt = str(dict_info['autoData']['raceInt'])\n",
    "    except:\n",
    "        raceInt = re.search('[0-9]+', dict_info['autoData']['fuelName'])[0]\n",
    "    \n",
    "    year = str(dict_info['autoData']['year'])\n",
    "    \n",
    "    subCategoryNameEng = dict_info['autoData']['subCategoryNameEng']\n",
    "    \n",
    "    fuelName = re.search('[0-9.]+', dict_info['autoData']['fuelName'])[0]\n",
    "    #file.write(dict_info['autoData']['fuelName'].split(', ')[1].split(' ')[0])\n",
    "    \n",
    "    fuelNameEng = dict_info['autoData']['fuelNameEng']\n",
    "    \n",
    "    gearboxName = dict_info['autoData']['gearboxName']\n",
    "    \n",
    "    \n",
    "    custom = str(dict_info['autoData']['custom'])\n",
    "    \n",
    "    regionNameEng = dict_info['stateData']['regionNameEng']\n",
    "    \n",
    "    locationCityName = dict_info['locationCityName']\n",
    "    \n",
    "    count = str(dict_info['photoData']['count'])\n",
    "    \n",
    "    userId = str(dict_info['userId'])\n",
    "    \n",
    "    phone = dict_info['userPhoneData']['phone']\n",
    "    \n",
    "    \n",
    "    \n",
    "    file.write(ido)\n",
    "    file.write(',')\n",
    "    file.write(USD)\n",
    "    file.write(',')\n",
    "    \n",
    "    file.write(markName)\n",
    "    file.write(',')\n",
    "    file.write(modelName)\n",
    "    file.write(',')\n",
    "    file.write(markNameEng)\n",
    "    file.write(',')\n",
    "    file.write(modelNameEng)\n",
    "    file.write(',')\n",
    "    file.write(raceInt)\n",
    "    \n",
    "    file.write(',')\n",
    "    file.write(year)\n",
    "    file.write(',')\n",
    "    file.write(subCategoryNameEng)\n",
    "    file.write(',')\n",
    "    \n",
    "    file.write(fuelName)\n",
    "    file.write(',')\n",
    "    file.write(fuelNameEng)\n",
    "    file.write(',')\n",
    "    file.write(gearboxName)\n",
    "    file.write(',')\n",
    "    \n",
    "    file.write(custom)\n",
    "    file.write(',')\n",
    "    file.write(regionNameEng)\n",
    "    file.write(',')\n",
    "    file.write(locationCityName)\n",
    "    file.write(',')\n",
    "    file.write(count)\n",
    "    file.write(',')\n",
    "    file.write(userId)\n",
    "    file.write(',')\n",
    "    file.write(phone)\n",
    "    \n",
    "    \n",
    "    file.write('\\n')\n",
    "    \n",
    "    return _"
   ]
  },
  {
   "cell_type": "markdown",
   "metadata": {},
   "source": [
    "### Get ids that were already processed"
   ]
  },
  {
   "cell_type": "code",
   "execution_count": 18,
   "metadata": {},
   "outputs": [
    {
     "name": "stdout",
     "output_type": "stream",
     "text": [
      "Wall time: 1.07 ms\n"
     ]
    }
   ],
   "source": [
    "%%time\n",
    "# read all ids and ids, that were already download\n",
    "all_ids_file = open(\"data/already_retrieved.txt\", \"r\")\n",
    "ids_str = all_ids_file.read()\n",
    "all_ids = ids_str.splitlines()\n",
    "all_ids_file.close()\n",
    "\n",
    "already_done_file = open(\"data/already_processed_ids.txt\", \"r\")\n",
    "ids_str = already_done_file.read()\n",
    "already_done = set(ids_str.splitlines())\n",
    "already_done_file.close()\n",
    "\n",
    "ids_to_get = [x for x in all_ids if x not in already_done]\n"
   ]
  },
  {
   "cell_type": "code",
   "execution_count": 19,
   "metadata": {},
   "outputs": [
    {
     "data": {
      "text/plain": [
       "490"
      ]
     },
     "execution_count": 19,
     "metadata": {},
     "output_type": "execute_result"
    }
   ],
   "source": [
    "len(ids_to_get)"
   ]
  },
  {
   "cell_type": "markdown",
   "metadata": {},
   "source": [
    "## Get and write raw data + processed\n",
    "### It's good to play around with error processing and track them frequently"
   ]
  },
  {
   "cell_type": "code",
   "execution_count": 20,
   "metadata": {},
   "outputs": [
    {
     "name": "stdout",
     "output_type": "stream",
     "text": [
      "489\n",
      "https://developers.ria.com/auto/info?api_key=8rAuqdgyiS0ytCM3cOd06Xgyw79211tC1lth5PfZ&auto_id=22827235\n",
      "request for car №0 was sent (id=22827235)\n",
      "200\n",
      "485\n",
      "https://developers.ria.com/auto/info?api_key=8rAuqdgyiS0ytCM3cOd06Xgyw79211tC1lth5PfZ&auto_id=22951324\n",
      "request for car №1 was sent (id=22951324)\n",
      "200\n",
      "351\n",
      "https://developers.ria.com/auto/info?api_key=8rAuqdgyiS0ytCM3cOd06Xgyw79211tC1lth5PfZ&auto_id=22703708\n",
      "request for car №2 was sent (id=22703708)\n",
      "200\n",
      "165\n",
      "https://developers.ria.com/auto/info?api_key=8rAuqdgyiS0ytCM3cOd06Xgyw79211tC1lth5PfZ&auto_id=22782067\n",
      "request for car №3 was sent (id=22782067)\n",
      "200\n",
      "442\n",
      "https://developers.ria.com/auto/info?api_key=8rAuqdgyiS0ytCM3cOd06Xgyw79211tC1lth5PfZ&auto_id=22946790\n",
      "request for car №4 was sent (id=22946790)\n",
      "200\n",
      "300\n",
      "https://developers.ria.com/auto/info?api_key=8rAuqdgyiS0ytCM3cOd06Xgyw79211tC1lth5PfZ&auto_id=22738124\n",
      "request for car №5 was sent (id=22738124)\n",
      "200\n",
      "287\n",
      "https://developers.ria.com/auto/info?api_key=8rAuqdgyiS0ytCM3cOd06Xgyw79211tC1lth5PfZ&auto_id=22855600\n",
      "request for car №6 was sent (id=22855600)\n",
      "200\n",
      "236\n",
      "https://developers.ria.com/auto/info?api_key=8rAuqdgyiS0ytCM3cOd06Xgyw79211tC1lth5PfZ&auto_id=22931760\n",
      "request for car №7 was sent (id=22931760)\n",
      "200\n",
      "468\n",
      "https://developers.ria.com/auto/info?api_key=8rAuqdgyiS0ytCM3cOd06Xgyw79211tC1lth5PfZ&auto_id=21344143\n",
      "request for car №8 was sent (id=21344143)\n",
      "200\n",
      "295\n",
      "https://developers.ria.com/auto/info?api_key=8rAuqdgyiS0ytCM3cOd06Xgyw79211tC1lth5PfZ&auto_id=22891936\n",
      "request for car №9 was sent (id=22891936)\n",
      "200\n"
     ]
    }
   ],
   "source": [
    "already_done_file = open(\"data/already_processed_ids.txt\", \"a\")\n",
    "iter_n = 0\n",
    "max_iter = 10#len(ids_to_get)\n",
    "all_csv_file = open(\"data/all.csv\", \"a\", encoding='utf-8')\n",
    "errors_log_file = open(\"errors/errors.txt\", \"a\")\n",
    "\n",
    "try:\n",
    "    while iter_n < max_iter:\n",
    "        ido = get_random_id_and_del_from_list(ids_to_get)\n",
    "\n",
    "        getstr = get_car_str + str(ido)\n",
    "        print(getstr)\n",
    "        resp = requests.get(getstr)\n",
    "\n",
    "        print('request for car №' + str(iter_n) + ' was sent (id=' + str(ido) + ')')\n",
    "        print(resp.status_code)\n",
    "\n",
    "        if resp.status_code != 200:\n",
    "            errors_log_file.write('\\n')\n",
    "            errors_log_file.write(str(ido) + ' - ' + str(resp.status_code))\n",
    "            errors_log_file.write('\\n')\n",
    "            resp.close()\n",
    "            time.sleep(3)\n",
    "            continue\n",
    "        else:\n",
    "            try:\n",
    "                json_info = resp.json()\n",
    "                write_raw_info(ido, json_info, 'test/raw_json/')\n",
    "                \n",
    "                add_info_to_csv(ido, json_info, all_csv_file)\n",
    "                already_done_file.write(ido)\n",
    "                already_done_file.write('\\n')\n",
    "            except Exception as e:\n",
    "                errors_log_file.write('\\n')\n",
    "                errors_log_file.write(str(ido) + ' - ' + str(type(e)) + ' - ' + str(e))\n",
    "                errors_log_file.write('\\n') \n",
    "            \n",
    "            resp.close()\n",
    "\n",
    "        iter_n += 1\n",
    "finally:\n",
    "    errors_log_file.flush()\n",
    "    errors_log_file.close() \n",
    "    all_csv_file.flush()\n",
    "    all_csv_file.close() \n",
    "    already_done_file.flush()\n",
    "    already_done_file.close()  "
   ]
  }
 ],
 "metadata": {
  "kernelspec": {
   "display_name": "Python 3",
   "language": "python",
   "name": "python3"
  },
  "language_info": {
   "codemirror_mode": {
    "name": "ipython",
    "version": 3
   },
   "file_extension": ".py",
   "mimetype": "text/x-python",
   "name": "python",
   "nbconvert_exporter": "python",
   "pygments_lexer": "ipython3",
   "version": "3.7.0"
  }
 },
 "nbformat": 4,
 "nbformat_minor": 2
}
