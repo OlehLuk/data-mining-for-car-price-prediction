{
 "cells": [
  {
   "cell_type": "markdown",
   "metadata": {},
   "source": [
    "## We are missing data about drive - let's fix this"
   ]
  },
  {
   "cell_type": "code",
   "execution_count": 1,
   "metadata": {},
   "outputs": [],
   "source": [
    "import requests\n",
    "import time\n",
    "\n",
    "api_key = '8rAuqdgyiS0ytCM3cOd06Xgyw79211tC1lth5PfZ'\n",
    "getstr_options = 'https://developers.ria.com/auto/categories/1/driverTypes?api_key=' + api_key\n",
    "getstr_option_max = 'https://developers.ria.com/auto/search?api_key='\\\n",
    "                    + api_key \\\n",
    "                    + '&category_id=1&countpage=100&currency=1&abroad=2&sellerType=1&damage=0&under_credit=0'\\\n",
    "                    + '&confiscated_car=0&price_ot=100&price_do=100000&engineVolumeFrom=0.1&engineVolumeTo=10' \\\n",
    "                    + '&type[0]=1&type[1]=2&type[2]=5&type[3]=6&type[4]=3&custom=0&page=1&drive_type='\n",
    "\n",
    "resp = requests.get(getstr_options)\n",
    "options = resp.json()\n",
    "resp.close()\n",
    "folder = 'drive/'\n",
    "\n"
   ]
  },
  {
   "cell_type": "markdown",
   "metadata": {},
   "source": [
    "## Get info about how many pages of ids we should retreive\n",
    "### run once!"
   ]
  },
  {
   "cell_type": "code",
   "execution_count": 2,
   "metadata": {},
   "outputs": [
    {
     "name": "stdout",
     "output_type": "stream",
     "text": [
      "Полный - 1\n",
      "256\n",
      "Передний - 2\n",
      "1089\n",
      "Задний - 3\n",
      "281\n"
     ]
    }
   ],
   "source": [
    "for pair in options:\n",
    "    name = pair['name']\n",
    "    value = pair['value']\n",
    "    print(name + ' - ' + str(value))\n",
    "    name_file = open(folder + name + '.txt', 'w', encoding='utf-8')\n",
    "    name_last_file = open(folder + name + '_last_page.txt', 'w', encoding='utf-8')\n",
    "    name_max_page_file = open(folder + name + '_max_page.txt', 'w', encoding='utf-8')\n",
    "    resp = requests.get(getstr_option_max+str(value))\n",
    "    max_page = resp.json()['result']['search_result']['count'] // 100\n",
    "    print(max_page)\n",
    "    resp.close()\n",
    "    name_max_page_file.write(str(max_page))\n",
    "\n",
    "    name_max_page_file.close()\n",
    "    name_file.close()\n",
    "    name_last_file.close()"
   ]
  },
  {
   "cell_type": "code",
   "execution_count": 3,
   "metadata": {
    "scrolled": true
   },
   "outputs": [
    {
     "data": {
      "text/plain": [
       "'https://developers.ria.com/auto/search?api_key=8rAuqdgyiS0ytCM3cOd06Xgyw79211tC1lth5PfZ&category_id=1&countpage=100&currency=1&abroad=2&sellerType=1&damage=0&under_credit=0&confiscated_car=0&price_ot=100&price_do=100000&engineVolumeFrom=0.1&engineVolumeTo=10&type[0]=1&type[1]=2&type[2]=5&type[3]=6&type[4]=3&custom=0&page='"
      ]
     },
     "execution_count": 3,
     "metadata": {},
     "output_type": "execute_result"
    }
   ],
   "source": [
    "str_get_id = 'https://developers.ria.com/auto/search?api_key=' + api_key \\\n",
    "+ '&category_id=1&countpage=100&currency=1&abroad=2&sellerType=1&damage=0&under_credit=0'\\\n",
    "+'&confiscated_car=0&price_ot=100&price_do=100000&engineVolumeFrom=0.1&engineVolumeTo=10'\\\n",
    "+ '&type[0]=1&type[1]=2&type[2]=5&type[3]=6&type[4]=3' + \\\n",
    "'&custom=0&page='\n",
    "\n",
    "str_get_id"
   ]
  },
  {
   "cell_type": "markdown",
   "metadata": {},
   "source": [
    "## Get ids of cars with certain drive type"
   ]
  },
  {
   "cell_type": "code",
   "execution_count": 4,
   "metadata": {},
   "outputs": [
    {
     "name": "stdout",
     "output_type": "stream",
     "text": [
      "For Полный max_page is - 256\n",
      "For Полный start_page is - 0\n",
      "https://developers.ria.com/auto/search?api_key=8rAuqdgyiS0ytCM3cOd06Xgyw79211tC1lth5PfZ&category_id=1&countpage=100&currency=1&abroad=2&sellerType=1&damage=0&under_credit=0&confiscated_car=0&price_ot=100&price_do=100000&engineVolumeFrom=0.1&engineVolumeTo=10&type[0]=1&type[1]=2&type[2]=5&type[3]=6&type[4]=3&custom=0&page=0&drive_type=1\n",
      "request №0 was sent\n",
      "200\n",
      "https://developers.ria.com/auto/search?api_key=8rAuqdgyiS0ytCM3cOd06Xgyw79211tC1lth5PfZ&category_id=1&countpage=100&currency=1&abroad=2&sellerType=1&damage=0&under_credit=0&confiscated_car=0&price_ot=100&price_do=100000&engineVolumeFrom=0.1&engineVolumeTo=10&type[0]=1&type[1]=2&type[2]=5&type[3]=6&type[4]=3&custom=0&page=1&drive_type=1\n",
      "request №1 was sent\n",
      "200\n",
      "https://developers.ria.com/auto/search?api_key=8rAuqdgyiS0ytCM3cOd06Xgyw79211tC1lth5PfZ&category_id=1&countpage=100&currency=1&abroad=2&sellerType=1&damage=0&under_credit=0&confiscated_car=0&price_ot=100&price_do=100000&engineVolumeFrom=0.1&engineVolumeTo=10&type[0]=1&type[1]=2&type[2]=5&type[3]=6&type[4]=3&custom=0&page=2&drive_type=1\n",
      "request №2 was sent\n",
      "200\n",
      "https://developers.ria.com/auto/search?api_key=8rAuqdgyiS0ytCM3cOd06Xgyw79211tC1lth5PfZ&category_id=1&countpage=100&currency=1&abroad=2&sellerType=1&damage=0&under_credit=0&confiscated_car=0&price_ot=100&price_do=100000&engineVolumeFrom=0.1&engineVolumeTo=10&type[0]=1&type[1]=2&type[2]=5&type[3]=6&type[4]=3&custom=0&page=3&drive_type=1\n",
      "request №3 was sent\n",
      "200\n",
      "https://developers.ria.com/auto/search?api_key=8rAuqdgyiS0ytCM3cOd06Xgyw79211tC1lth5PfZ&category_id=1&countpage=100&currency=1&abroad=2&sellerType=1&damage=0&under_credit=0&confiscated_car=0&price_ot=100&price_do=100000&engineVolumeFrom=0.1&engineVolumeTo=10&type[0]=1&type[1]=2&type[2]=5&type[3]=6&type[4]=3&custom=0&page=4&drive_type=1\n",
      "request №4 was sent\n",
      "200\n",
      "https://developers.ria.com/auto/search?api_key=8rAuqdgyiS0ytCM3cOd06Xgyw79211tC1lth5PfZ&category_id=1&countpage=100&currency=1&abroad=2&sellerType=1&damage=0&under_credit=0&confiscated_car=0&price_ot=100&price_do=100000&engineVolumeFrom=0.1&engineVolumeTo=10&type[0]=1&type[1]=2&type[2]=5&type[3]=6&type[4]=3&custom=0&page=5&drive_type=1\n",
      "request №5 was sent\n",
      "200\n",
      "https://developers.ria.com/auto/search?api_key=8rAuqdgyiS0ytCM3cOd06Xgyw79211tC1lth5PfZ&category_id=1&countpage=100&currency=1&abroad=2&sellerType=1&damage=0&under_credit=0&confiscated_car=0&price_ot=100&price_do=100000&engineVolumeFrom=0.1&engineVolumeTo=10&type[0]=1&type[1]=2&type[2]=5&type[3]=6&type[4]=3&custom=0&page=6&drive_type=1\n",
      "request №6 was sent\n",
      "200\n",
      "https://developers.ria.com/auto/search?api_key=8rAuqdgyiS0ytCM3cOd06Xgyw79211tC1lth5PfZ&category_id=1&countpage=100&currency=1&abroad=2&sellerType=1&damage=0&under_credit=0&confiscated_car=0&price_ot=100&price_do=100000&engineVolumeFrom=0.1&engineVolumeTo=10&type[0]=1&type[1]=2&type[2]=5&type[3]=6&type[4]=3&custom=0&page=7&drive_type=1\n",
      "request №7 was sent\n",
      "200\n",
      "https://developers.ria.com/auto/search?api_key=8rAuqdgyiS0ytCM3cOd06Xgyw79211tC1lth5PfZ&category_id=1&countpage=100&currency=1&abroad=2&sellerType=1&damage=0&under_credit=0&confiscated_car=0&price_ot=100&price_do=100000&engineVolumeFrom=0.1&engineVolumeTo=10&type[0]=1&type[1]=2&type[2]=5&type[3]=6&type[4]=3&custom=0&page=8&drive_type=1\n",
      "request №8 was sent\n",
      "200\n",
      "https://developers.ria.com/auto/search?api_key=8rAuqdgyiS0ytCM3cOd06Xgyw79211tC1lth5PfZ&category_id=1&countpage=100&currency=1&abroad=2&sellerType=1&damage=0&under_credit=0&confiscated_car=0&price_ot=100&price_do=100000&engineVolumeFrom=0.1&engineVolumeTo=10&type[0]=1&type[1]=2&type[2]=5&type[3]=6&type[4]=3&custom=0&page=9&drive_type=1\n",
      "request №9 was sent\n",
      "200\n",
      "https://developers.ria.com/auto/search?api_key=8rAuqdgyiS0ytCM3cOd06Xgyw79211tC1lth5PfZ&category_id=1&countpage=100&currency=1&abroad=2&sellerType=1&damage=0&under_credit=0&confiscated_car=0&price_ot=100&price_do=100000&engineVolumeFrom=0.1&engineVolumeTo=10&type[0]=1&type[1]=2&type[2]=5&type[3]=6&type[4]=3&custom=0&page=10&drive_type=1\n",
      "request №10 was sent\n",
      "200\n",
      "For Передний max_page is - 1089\n",
      "For Передний start_page is - 0\n",
      "https://developers.ria.com/auto/search?api_key=8rAuqdgyiS0ytCM3cOd06Xgyw79211tC1lth5PfZ&category_id=1&countpage=100&currency=1&abroad=2&sellerType=1&damage=0&under_credit=0&confiscated_car=0&price_ot=100&price_do=100000&engineVolumeFrom=0.1&engineVolumeTo=10&type[0]=1&type[1]=2&type[2]=5&type[3]=6&type[4]=3&custom=0&page=0&drive_type=2\n",
      "request №0 was sent\n",
      "200\n",
      "https://developers.ria.com/auto/search?api_key=8rAuqdgyiS0ytCM3cOd06Xgyw79211tC1lth5PfZ&category_id=1&countpage=100&currency=1&abroad=2&sellerType=1&damage=0&under_credit=0&confiscated_car=0&price_ot=100&price_do=100000&engineVolumeFrom=0.1&engineVolumeTo=10&type[0]=1&type[1]=2&type[2]=5&type[3]=6&type[4]=3&custom=0&page=1&drive_type=2\n",
      "request №1 was sent\n",
      "200\n",
      "https://developers.ria.com/auto/search?api_key=8rAuqdgyiS0ytCM3cOd06Xgyw79211tC1lth5PfZ&category_id=1&countpage=100&currency=1&abroad=2&sellerType=1&damage=0&under_credit=0&confiscated_car=0&price_ot=100&price_do=100000&engineVolumeFrom=0.1&engineVolumeTo=10&type[0]=1&type[1]=2&type[2]=5&type[3]=6&type[4]=3&custom=0&page=2&drive_type=2\n",
      "request №2 was sent\n",
      "200\n",
      "https://developers.ria.com/auto/search?api_key=8rAuqdgyiS0ytCM3cOd06Xgyw79211tC1lth5PfZ&category_id=1&countpage=100&currency=1&abroad=2&sellerType=1&damage=0&under_credit=0&confiscated_car=0&price_ot=100&price_do=100000&engineVolumeFrom=0.1&engineVolumeTo=10&type[0]=1&type[1]=2&type[2]=5&type[3]=6&type[4]=3&custom=0&page=3&drive_type=2\n",
      "request №3 was sent\n",
      "200\n",
      "https://developers.ria.com/auto/search?api_key=8rAuqdgyiS0ytCM3cOd06Xgyw79211tC1lth5PfZ&category_id=1&countpage=100&currency=1&abroad=2&sellerType=1&damage=0&under_credit=0&confiscated_car=0&price_ot=100&price_do=100000&engineVolumeFrom=0.1&engineVolumeTo=10&type[0]=1&type[1]=2&type[2]=5&type[3]=6&type[4]=3&custom=0&page=4&drive_type=2\n",
      "request №4 was sent\n",
      "200\n",
      "https://developers.ria.com/auto/search?api_key=8rAuqdgyiS0ytCM3cOd06Xgyw79211tC1lth5PfZ&category_id=1&countpage=100&currency=1&abroad=2&sellerType=1&damage=0&under_credit=0&confiscated_car=0&price_ot=100&price_do=100000&engineVolumeFrom=0.1&engineVolumeTo=10&type[0]=1&type[1]=2&type[2]=5&type[3]=6&type[4]=3&custom=0&page=5&drive_type=2\n",
      "request №5 was sent\n",
      "200\n",
      "https://developers.ria.com/auto/search?api_key=8rAuqdgyiS0ytCM3cOd06Xgyw79211tC1lth5PfZ&category_id=1&countpage=100&currency=1&abroad=2&sellerType=1&damage=0&under_credit=0&confiscated_car=0&price_ot=100&price_do=100000&engineVolumeFrom=0.1&engineVolumeTo=10&type[0]=1&type[1]=2&type[2]=5&type[3]=6&type[4]=3&custom=0&page=6&drive_type=2\n",
      "request №6 was sent\n",
      "200\n",
      "https://developers.ria.com/auto/search?api_key=8rAuqdgyiS0ytCM3cOd06Xgyw79211tC1lth5PfZ&category_id=1&countpage=100&currency=1&abroad=2&sellerType=1&damage=0&under_credit=0&confiscated_car=0&price_ot=100&price_do=100000&engineVolumeFrom=0.1&engineVolumeTo=10&type[0]=1&type[1]=2&type[2]=5&type[3]=6&type[4]=3&custom=0&page=7&drive_type=2\n",
      "request №7 was sent\n",
      "200\n",
      "https://developers.ria.com/auto/search?api_key=8rAuqdgyiS0ytCM3cOd06Xgyw79211tC1lth5PfZ&category_id=1&countpage=100&currency=1&abroad=2&sellerType=1&damage=0&under_credit=0&confiscated_car=0&price_ot=100&price_do=100000&engineVolumeFrom=0.1&engineVolumeTo=10&type[0]=1&type[1]=2&type[2]=5&type[3]=6&type[4]=3&custom=0&page=8&drive_type=2\n",
      "request №8 was sent\n",
      "200\n",
      "https://developers.ria.com/auto/search?api_key=8rAuqdgyiS0ytCM3cOd06Xgyw79211tC1lth5PfZ&category_id=1&countpage=100&currency=1&abroad=2&sellerType=1&damage=0&under_credit=0&confiscated_car=0&price_ot=100&price_do=100000&engineVolumeFrom=0.1&engineVolumeTo=10&type[0]=1&type[1]=2&type[2]=5&type[3]=6&type[4]=3&custom=0&page=9&drive_type=2\n",
      "request №9 was sent\n",
      "200\n",
      "https://developers.ria.com/auto/search?api_key=8rAuqdgyiS0ytCM3cOd06Xgyw79211tC1lth5PfZ&category_id=1&countpage=100&currency=1&abroad=2&sellerType=1&damage=0&under_credit=0&confiscated_car=0&price_ot=100&price_do=100000&engineVolumeFrom=0.1&engineVolumeTo=10&type[0]=1&type[1]=2&type[2]=5&type[3]=6&type[4]=3&custom=0&page=10&drive_type=2\n",
      "request №10 was sent\n",
      "200\n",
      "For Задний max_page is - 281\n",
      "For Задний start_page is - 0\n",
      "https://developers.ria.com/auto/search?api_key=8rAuqdgyiS0ytCM3cOd06Xgyw79211tC1lth5PfZ&category_id=1&countpage=100&currency=1&abroad=2&sellerType=1&damage=0&under_credit=0&confiscated_car=0&price_ot=100&price_do=100000&engineVolumeFrom=0.1&engineVolumeTo=10&type[0]=1&type[1]=2&type[2]=5&type[3]=6&type[4]=3&custom=0&page=0&drive_type=3\n",
      "request №0 was sent\n",
      "200\n"
     ]
    },
    {
     "name": "stdout",
     "output_type": "stream",
     "text": [
      "https://developers.ria.com/auto/search?api_key=8rAuqdgyiS0ytCM3cOd06Xgyw79211tC1lth5PfZ&category_id=1&countpage=100&currency=1&abroad=2&sellerType=1&damage=0&under_credit=0&confiscated_car=0&price_ot=100&price_do=100000&engineVolumeFrom=0.1&engineVolumeTo=10&type[0]=1&type[1]=2&type[2]=5&type[3]=6&type[4]=3&custom=0&page=1&drive_type=3\n",
      "request №1 was sent\n",
      "200\n",
      "https://developers.ria.com/auto/search?api_key=8rAuqdgyiS0ytCM3cOd06Xgyw79211tC1lth5PfZ&category_id=1&countpage=100&currency=1&abroad=2&sellerType=1&damage=0&under_credit=0&confiscated_car=0&price_ot=100&price_do=100000&engineVolumeFrom=0.1&engineVolumeTo=10&type[0]=1&type[1]=2&type[2]=5&type[3]=6&type[4]=3&custom=0&page=2&drive_type=3\n",
      "request №2 was sent\n",
      "200\n",
      "https://developers.ria.com/auto/search?api_key=8rAuqdgyiS0ytCM3cOd06Xgyw79211tC1lth5PfZ&category_id=1&countpage=100&currency=1&abroad=2&sellerType=1&damage=0&under_credit=0&confiscated_car=0&price_ot=100&price_do=100000&engineVolumeFrom=0.1&engineVolumeTo=10&type[0]=1&type[1]=2&type[2]=5&type[3]=6&type[4]=3&custom=0&page=3&drive_type=3\n",
      "request №3 was sent\n",
      "200\n",
      "https://developers.ria.com/auto/search?api_key=8rAuqdgyiS0ytCM3cOd06Xgyw79211tC1lth5PfZ&category_id=1&countpage=100&currency=1&abroad=2&sellerType=1&damage=0&under_credit=0&confiscated_car=0&price_ot=100&price_do=100000&engineVolumeFrom=0.1&engineVolumeTo=10&type[0]=1&type[1]=2&type[2]=5&type[3]=6&type[4]=3&custom=0&page=4&drive_type=3\n",
      "request №4 was sent\n",
      "200\n",
      "https://developers.ria.com/auto/search?api_key=8rAuqdgyiS0ytCM3cOd06Xgyw79211tC1lth5PfZ&category_id=1&countpage=100&currency=1&abroad=2&sellerType=1&damage=0&under_credit=0&confiscated_car=0&price_ot=100&price_do=100000&engineVolumeFrom=0.1&engineVolumeTo=10&type[0]=1&type[1]=2&type[2]=5&type[3]=6&type[4]=3&custom=0&page=5&drive_type=3\n",
      "request №5 was sent\n",
      "200\n",
      "https://developers.ria.com/auto/search?api_key=8rAuqdgyiS0ytCM3cOd06Xgyw79211tC1lth5PfZ&category_id=1&countpage=100&currency=1&abroad=2&sellerType=1&damage=0&under_credit=0&confiscated_car=0&price_ot=100&price_do=100000&engineVolumeFrom=0.1&engineVolumeTo=10&type[0]=1&type[1]=2&type[2]=5&type[3]=6&type[4]=3&custom=0&page=6&drive_type=3\n",
      "request №6 was sent\n",
      "200\n",
      "https://developers.ria.com/auto/search?api_key=8rAuqdgyiS0ytCM3cOd06Xgyw79211tC1lth5PfZ&category_id=1&countpage=100&currency=1&abroad=2&sellerType=1&damage=0&under_credit=0&confiscated_car=0&price_ot=100&price_do=100000&engineVolumeFrom=0.1&engineVolumeTo=10&type[0]=1&type[1]=2&type[2]=5&type[3]=6&type[4]=3&custom=0&page=7&drive_type=3\n",
      "request №7 was sent\n",
      "200\n",
      "https://developers.ria.com/auto/search?api_key=8rAuqdgyiS0ytCM3cOd06Xgyw79211tC1lth5PfZ&category_id=1&countpage=100&currency=1&abroad=2&sellerType=1&damage=0&under_credit=0&confiscated_car=0&price_ot=100&price_do=100000&engineVolumeFrom=0.1&engineVolumeTo=10&type[0]=1&type[1]=2&type[2]=5&type[3]=6&type[4]=3&custom=0&page=8&drive_type=3\n",
      "request №8 was sent\n",
      "200\n",
      "https://developers.ria.com/auto/search?api_key=8rAuqdgyiS0ytCM3cOd06Xgyw79211tC1lth5PfZ&category_id=1&countpage=100&currency=1&abroad=2&sellerType=1&damage=0&under_credit=0&confiscated_car=0&price_ot=100&price_do=100000&engineVolumeFrom=0.1&engineVolumeTo=10&type[0]=1&type[1]=2&type[2]=5&type[3]=6&type[4]=3&custom=0&page=9&drive_type=3\n",
      "request №9 was sent\n",
      "200\n",
      "https://developers.ria.com/auto/search?api_key=8rAuqdgyiS0ytCM3cOd06Xgyw79211tC1lth5PfZ&category_id=1&countpage=100&currency=1&abroad=2&sellerType=1&damage=0&under_credit=0&confiscated_car=0&price_ot=100&price_do=100000&engineVolumeFrom=0.1&engineVolumeTo=10&type[0]=1&type[1]=2&type[2]=5&type[3]=6&type[4]=3&custom=0&page=10&drive_type=3\n",
      "request №10 was sent\n",
      "200\n"
     ]
    }
   ],
   "source": [
    "for pair in options:\n",
    "    name = pair['name']\n",
    "    value = pair['value']\n",
    "    \n",
    "    name_max_page_file = open(folder + name + '_max_page.txt', 'r', encoding='utf-8')\n",
    "    max_page_str = name_max_page_file.read()\n",
    "    max_page = int(max_page_str.splitlines()[0])\n",
    "    print('For ' + name + ' max_page is - ' + str(max_page))\n",
    "    name_max_page_file.close()\n",
    "    \n",
    "    name_file = open(folder + name + '.txt', 'r', encoding='utf-8')\n",
    "    ids_str = name_file.read()\n",
    "    already_retreived = set(ids_str.splitlines())\n",
    "    name_file.close()\n",
    "    \n",
    "    name_last_file = open(folder + name + '_last_page.txt', 'r', encoding='utf-8')\n",
    "    ids_str = name_last_file.read()\n",
    "    ids_str = ids_str.splitlines()\n",
    "    page = 0\n",
    "    if len(ids_str) != 0:\n",
    "        page = int(ids_str[-1])\n",
    "    name_last_file.close()\n",
    "    print('For ' + name + ' start_page is - ' + str(page))\n",
    "    \n",
    "    retrieved_ids_file = open(folder + name + '.txt', 'a', encoding='utf-8')\n",
    "    last_page_file = open(folder + name + '_last_page.txt', 'a', encoding='utf-8')\n",
    "    \n",
    "    try:\n",
    "        while page <= 10:# use max_page if not demo\n",
    "            getstr = str_get_id + str(page) + '&drive_type=' + str(value)\n",
    "            print(getstr)\n",
    "            resp = requests.get(getstr)\n",
    "\n",
    "            print('request №' + str(page) + ' was sent')\n",
    "            print(resp.status_code)\n",
    "\n",
    "            if resp.status_code != 200:\n",
    "                resp.close()\n",
    "                continue\n",
    "            else:\n",
    "                ids = resp.json()['result']['search_result']['ids']\n",
    "                for ido in ids:\n",
    "                    if ido not in already_retreived:\n",
    "                        retrieved_ids_file.write(ido)\n",
    "                        retrieved_ids_file.write('\\n')\n",
    "                        already_retreived.add(ido)\n",
    "                resp.close()\n",
    "            page += 1\n",
    "            time.sleep(0.2)\n",
    "    finally:\n",
    "        last_page_file.write(str(page))\n",
    "        last_page_file.write('\\n')\n",
    "        last_page_file.flush()\n",
    "        last_page_file.close()\n",
    "        retrieved_ids_file.flush()\n",
    "        retrieved_ids_file.close()"
   ]
  }
 ],
 "metadata": {
  "kernelspec": {
   "display_name": "Python 3",
   "language": "python",
   "name": "python3"
  },
  "language_info": {
   "codemirror_mode": {
    "name": "ipython",
    "version": 3
   },
   "file_extension": ".py",
   "mimetype": "text/x-python",
   "name": "python",
   "nbconvert_exporter": "python",
   "pygments_lexer": "ipython3",
   "version": "3.7.0"
  }
 },
 "nbformat": 4,
 "nbformat_minor": 2
}
