{
 "cells": [
  {
   "cell_type": "markdown",
   "metadata": {},
   "source": [
    "## Where to get data from?"
   ]
  },
  {
   "cell_type": "markdown",
   "metadata": {},
   "source": [
    "* API\n",
    "* parsing\n",
    "* already retreived datasets\n",
    "* *etc*"
   ]
  },
  {
   "cell_type": "markdown",
   "metadata": {},
   "source": [
    "### Think about your purpose\n",
    "* how *official* data should be\n",
    "* how *new* data should be\n",
    "* how *full* data should be"
   ]
  },
  {
   "cell_type": "markdown",
   "metadata": {},
   "source": [
    "## Experiments are useful!\n",
    "* **test API !**"
   ]
  },
  {
   "cell_type": "markdown",
   "metadata": {},
   "source": [
    "### Test requests and check response format"
   ]
  },
  {
   "cell_type": "markdown",
   "metadata": {},
   "source": [
    "### car ids"
   ]
  },
  {
   "cell_type": "code",
   "execution_count": 1,
   "metadata": {},
   "outputs": [],
   "source": [
    "import requests\n",
    "import json\n",
    "import re\n",
    "\n",
    "api_key = ''#put your API key here"
   ]
  },
  {
   "cell_type": "code",
   "execution_count": 2,
   "metadata": {},
   "outputs": [
    {
     "data": {
      "text/plain": [
       "'https://developers.ria.com/auto/search?api_key=8rAuqdgyiS0ytCM3cOd06Xgyw79211tC1lth5PfZ&category_id=1&countpage=100&currency=1&abroad=2&sellerType=1&damage=0&under_credit=0&confiscated_car=0&price_ot=100&price_do=100000&engineVolumeFrom=0.1&engineVolumeTo=10&type_id[0]=1&type_id[1]=2&type_id[2]=3&type_id[3]=4&type_id[4]=5&type_id[5]=6&page=100&custom=0'"
      ]
     },
     "execution_count": 2,
     "metadata": {},
     "output_type": "execute_result"
    }
   ],
   "source": [
    "getstr = 'https://developers.ria.com/auto/search?api_key=' + api_key + '&category_id=1&countpage=100&currency=1&' \\\n",
    "+ 'abroad=2&sellerType=1&damage=0&under_credit=0&confiscated_car=0&price_ot=100&price_do=100000' + \\\n",
    "'&engineVolumeFrom=0.1&engineVolumeTo=10&type_id[0]=1&type_id[1]=2&type_id[2]=3&type_id[3]=4&type_id[4]=5&type_id[5]=6' + \\\n",
    "'&page=100&custom=0'\n",
    "getstr"
   ]
  },
  {
   "cell_type": "code",
   "execution_count": 3,
   "metadata": {},
   "outputs": [],
   "source": [
    "resp = requests.get(getstr)"
   ]
  },
  {
   "cell_type": "code",
   "execution_count": 4,
   "metadata": {},
   "outputs": [
    {
     "data": {
      "text/plain": [
       "200"
      ]
     },
     "execution_count": 4,
     "metadata": {},
     "output_type": "execute_result"
    }
   ],
   "source": [
    "resp.status_code"
   ]
  },
  {
   "cell_type": "code",
   "execution_count": 5,
   "metadata": {},
   "outputs": [
    {
     "data": {
      "text/plain": [
       "{'additional_params': {'lang_id': 2,\n",
       "  'page': '100',\n",
       "  'view_type_id': 0,\n",
       "  'target': 'search',\n",
       "  'section': 'auto',\n",
       "  'catalog_name': '',\n",
       "  'elastica': True,\n",
       "  'nodejs': True},\n",
       " 'result': {'search_result': {'ids': ['22611384',\n",
       "    '20482167',\n",
       "    '21933060',\n",
       "    '22712092',\n",
       "    '17266453',\n",
       "    '22710403',\n",
       "    '22604368',\n",
       "    '22708419',\n",
       "    '19201630',\n",
       "    '22264625',\n",
       "    '21450712',\n",
       "    '22651459',\n",
       "    '22704389',\n",
       "    '21858919',\n",
       "    '22704006',\n",
       "    '22683258',\n",
       "    '22337150',\n",
       "    '22699978',\n",
       "    '22698781',\n",
       "    '22698798',\n",
       "    '22698485',\n",
       "    '22100650',\n",
       "    '22696861',\n",
       "    '22436512',\n",
       "    '22693995',\n",
       "    '22693414',\n",
       "    '22521331',\n",
       "    '15962435',\n",
       "    '21677798',\n",
       "    '22665401',\n",
       "    '22650200',\n",
       "    '22667198',\n",
       "    '22600957',\n",
       "    '22572910',\n",
       "    '22595830',\n",
       "    '21867018',\n",
       "    '22621808',\n",
       "    '22675881',\n",
       "    '21868760',\n",
       "    '21638538',\n",
       "    '22618551',\n",
       "    '22055924',\n",
       "    '22663256',\n",
       "    '22490361',\n",
       "    '22646649',\n",
       "    '22337305',\n",
       "    '22665228',\n",
       "    '21797074',\n",
       "    '20562614',\n",
       "    '22663745',\n",
       "    '22566103',\n",
       "    '22349370',\n",
       "    '21798195',\n",
       "    '20083466',\n",
       "    '22659636',\n",
       "    '22659729',\n",
       "    '22658793',\n",
       "    '19647046',\n",
       "    '22654899',\n",
       "    '22653862',\n",
       "    '22045324',\n",
       "    '22652627',\n",
       "    '22609892',\n",
       "    '22521109',\n",
       "    '22648737',\n",
       "    '22402523',\n",
       "    '21777504',\n",
       "    '22229710',\n",
       "    '19134852',\n",
       "    '22451875',\n",
       "    '22642656',\n",
       "    '22641984',\n",
       "    '22598093',\n",
       "    '22641033',\n",
       "    '22640636',\n",
       "    '22571861',\n",
       "    '22634721',\n",
       "    '22431095',\n",
       "    '22476493',\n",
       "    '22631197',\n",
       "    '22630518',\n",
       "    '21980776',\n",
       "    '21925745',\n",
       "    '22448955',\n",
       "    '22626165',\n",
       "    '22312306',\n",
       "    '22625704',\n",
       "    '22624060',\n",
       "    '22623654',\n",
       "    '20870966',\n",
       "    '22575661',\n",
       "    '22264648',\n",
       "    '22601433',\n",
       "    '22616035',\n",
       "    '14888358',\n",
       "    '20168765',\n",
       "    '22611414',\n",
       "    '22610191',\n",
       "    '21364877',\n",
       "    '22281869'],\n",
       "   'count': 176892,\n",
       "   'last_id': 0},\n",
       "  'active_marka': None,\n",
       "  'active_model': None,\n",
       "  'active_state': None,\n",
       "  'active_city': None,\n",
       "  'revies': None,\n",
       "  'additional': {'user_auto_positions': [],\n",
       "   'search_params': {'all': {'category_id': '1',\n",
       "     'countpage': 100,\n",
       "     'currency': '1',\n",
       "     'abroad': '2',\n",
       "     'sellerType': 1,\n",
       "     'damage': '0',\n",
       "     'under_credit': '0',\n",
       "     'confiscated_car': '0',\n",
       "     'price_ot': '100',\n",
       "     'price_do': '100000',\n",
       "     'engineVolumeFrom': 0.1,\n",
       "     'engineVolumeTo': 10,\n",
       "     'type_id': ['1', '2', '3', '4', '5', '6'],\n",
       "     'page': '100',\n",
       "     'custom': '0',\n",
       "     'brandOrigin': [],\n",
       "     'marka_id': [],\n",
       "     'model_id': [],\n",
       "     's_yers': [],\n",
       "     'po_yers': [],\n",
       "     'excludeMM': [],\n",
       "     'state': [],\n",
       "     'city': [],\n",
       "     'auto_options': [],\n",
       "     'target': 'search',\n",
       "     'event': 'little',\n",
       "     'lang_id': 2,\n",
       "     'limit_page': None,\n",
       "     'last_id': 0,\n",
       "     'last_search_id': 0,\n",
       "     'saledParam': 0,\n",
       "     'state_id': 0,\n",
       "     'city_id': 0,\n",
       "     'state_from': 0,\n",
       "     'city_from': 0,\n",
       "     'm_state': [],\n",
       "     'm_city': [],\n",
       "     'marka': [],\n",
       "     'model': [],\n",
       "     'mm_marka': [],\n",
       "     'mm_model': [],\n",
       "     'mm_marka_filtr': [],\n",
       "     'mm_model_filtr': [],\n",
       "     'useOrigAutoTable': False,\n",
       "     'withoutStatus': False,\n",
       "     'with_photo': False,\n",
       "     'with_video': False,\n",
       "     'with_exchange': 0,\n",
       "     'exchange_filter': [],\n",
       "     'with_real_exchange': 0,\n",
       "     'old_only': False,\n",
       "     'user_id': 0,\n",
       "     'person_id': 0,\n",
       "     'with_discount': False,\n",
       "     'auto_id_str': '',\n",
       "     'black_user_id': 0,\n",
       "     'order_by': 0,\n",
       "     'is_online': False,\n",
       "     'last_send_id': False,\n",
       "     'withoutCache': False,\n",
       "     'with_last_id': False,\n",
       "     'color': 0,\n",
       "     'color_id': 0,\n",
       "     'gear_id': 0,\n",
       "     'gearbox': 0,\n",
       "     'top': 0,\n",
       "     'drive_type': 0,\n",
       "     'country': 0,\n",
       "     'mm_country': [],\n",
       "     'mm_country_exeption': [],\n",
       "     'currency_id': 0,\n",
       "     'currencies_arr': [],\n",
       "     'auto_repairs': 0,\n",
       "     'power_name': 0,\n",
       "     'powerFrom': 0,\n",
       "     'powerTo': 0,\n",
       "     'hide_black_list': [],\n",
       "     'fuelRateFrom': 0,\n",
       "     'fuelRateTo': 0,\n",
       "     'body_id': [],\n",
       "     'bodyStyleId': [],\n",
       "     'type': 0,\n",
       "     'metallic': 0,\n",
       "     'raceFrom': 0,\n",
       "     'raceTo': 0,\n",
       "     'sid': 0,\n",
       "     'star_auto': 0,\n",
       "     'start_date': '',\n",
       "     'drive_id': 0,\n",
       "     'door': 0,\n",
       "     'year': 0,\n",
       "     'auto_ids_search_position': 0,\n",
       "     'print_qs': 0,\n",
       "     'last_auto_id': 0,\n",
       "     'is_hot': 0,\n",
       "     'deletedAutoSearch': 0,\n",
       "     'can_be_checked': 0,\n",
       "     'seatsFrom': 0,\n",
       "     'seatsTo': 0,\n",
       "     'wheelFormulaId': 0,\n",
       "     'axleId': 0,\n",
       "     'carryingTo': 0,\n",
       "     'carryingFrom': 0,\n",
       "     'company_id': 0,\n",
       "     'company_type': 0,\n",
       "     'matched_country': -1,\n",
       "     'q': '',\n",
       "     'bodystyle': [],\n",
       "     'purpose': None,\n",
       "     'class': None},\n",
       "    'cleaned': {'category_id': '1',\n",
       "     'countpage': 100,\n",
       "     'currency': '1',\n",
       "     'abroad': '2',\n",
       "     'sellerType': 1,\n",
       "     'price_ot': '100',\n",
       "     'price_do': '100000',\n",
       "     'engineVolumeFrom': 0.1,\n",
       "     'engineVolumeTo': 10,\n",
       "     'type_id': ['1', '2', '3', '4', '5', '6'],\n",
       "     'brandOrigin': [],\n",
       "     'marka_id': [],\n",
       "     'model_id': [],\n",
       "     's_yers': [],\n",
       "     'po_yers': [],\n",
       "     'excludeMM': [],\n",
       "     'state': [],\n",
       "     'city': [],\n",
       "     'auto_options': [],\n",
       "     'target': 'search',\n",
       "     'event': 'little',\n",
       "     'lang_id': 2,\n",
       "     'm_state': [],\n",
       "     'm_city': [],\n",
       "     'marka': [],\n",
       "     'model': [],\n",
       "     'mm_marka': [],\n",
       "     'mm_model': [],\n",
       "     'mm_marka_filtr': [],\n",
       "     'mm_model_filtr': [],\n",
       "     'exchange_filter': [],\n",
       "     'mm_country': [],\n",
       "     'mm_country_exeption': [],\n",
       "     'currencies_arr': [],\n",
       "     'hide_black_list': [],\n",
       "     'body_id': [],\n",
       "     'bodyStyleId': [],\n",
       "     'matched_country': -1,\n",
       "     'bodystyle': []}},\n",
       "   'query_string': 'category_id=1&countpage=100&currency=1&abroad=2&sellerType=1&damage=0&under_credit=0&confiscated_car=0&price_ot=100&price_do=100000&engineVolumeFrom=0.1&engineVolumeTo=10&type_id[0]=1&type_id[1]=2&type_id[2]=3&type_id[3]=4&type_id[4]=5&type_id[5]=6&page=100&custom=0'}}}"
      ]
     },
     "execution_count": 5,
     "metadata": {},
     "output_type": "execute_result"
    }
   ],
   "source": [
    "resp.json()"
   ]
  },
  {
   "cell_type": "code",
   "execution_count": 6,
   "metadata": {},
   "outputs": [],
   "source": [
    "resp_json = resp.json()"
   ]
  },
  {
   "cell_type": "code",
   "execution_count": 7,
   "metadata": {},
   "outputs": [
    {
     "data": {
      "text/plain": [
       "dict_keys(['additional_params', 'result'])"
      ]
     },
     "execution_count": 7,
     "metadata": {},
     "output_type": "execute_result"
    }
   ],
   "source": [
    "resp_json.keys()"
   ]
  },
  {
   "cell_type": "code",
   "execution_count": 8,
   "metadata": {},
   "outputs": [
    {
     "data": {
      "text/plain": [
       "1768"
      ]
     },
     "execution_count": 8,
     "metadata": {},
     "output_type": "execute_result"
    }
   ],
   "source": [
    "max_page = resp_json['result']['search_result']['count']//100\n",
    "max_page"
   ]
  },
  {
   "cell_type": "code",
   "execution_count": 9,
   "metadata": {},
   "outputs": [
    {
     "data": {
      "text/plain": [
       "['22611384',\n",
       " '20482167',\n",
       " '21933060',\n",
       " '22712092',\n",
       " '17266453',\n",
       " '22710403',\n",
       " '22604368',\n",
       " '22708419',\n",
       " '19201630',\n",
       " '22264625']"
      ]
     },
     "execution_count": 9,
     "metadata": {},
     "output_type": "execute_result"
    }
   ],
   "source": [
    "ids_temp = resp_json['result']['search_result']['ids']\n",
    "ids_temp[0:10]"
   ]
  },
  {
   "cell_type": "markdown",
   "metadata": {},
   "source": [
    "### information about certain car by id"
   ]
  },
  {
   "cell_type": "code",
   "execution_count": 10,
   "metadata": {},
   "outputs": [
    {
     "name": "stdout",
     "output_type": "stream",
     "text": [
      "200\n",
      "Wall time: 1.87 s\n"
     ]
    }
   ],
   "source": [
    "%%time\n",
    "car_id_temp = '12559501'\n",
    "getstr_car = 'https://developers.ria.com/auto/info?api_key=' + api_key + '&auto_id=' +car_id_temp\n",
    "resp_car = requests.get(getstr_car)\n",
    "print(resp_car.status_code)"
   ]
  },
  {
   "cell_type": "code",
   "execution_count": 11,
   "metadata": {},
   "outputs": [],
   "source": [
    "dict_info = resp_car.json()"
   ]
  },
  {
   "cell_type": "code",
   "execution_count": 12,
   "metadata": {},
   "outputs": [
    {
     "data": {
      "text/plain": [
       "dict_keys(['userId', 'userBlocked', 'chipsCount', 'locationCityName', 'cityLocative', 'auctionPossible', 'exchangePossible', 'realtyExchange', 'exchangeType', 'exchangeTypeId', 'addDate', 'updateDate', 'expireDate', 'soldDate', 'userHideADSStatus', 'userPhoneData', 'USD', 'UAH', 'EUR', 'isAutoAddedByPartner', 'partnerId', 'levelData', 'autoData', 'markName', 'markNameEng', 'markId', 'modelName', 'modelNameEng', 'modelId', 'photoData', 'linkToView', 'title', 'stateData', 'oldTop', 'canSetSpecificPhoneToAdvert', 'dontComment', 'sendComments', 'badges', 'checkedVin', 'hasWebP', 'isLeasing', 'dealer', 'withInfoBar', 'infoBarText', 'optionStyles'])"
      ]
     },
     "execution_count": 12,
     "metadata": {},
     "output_type": "execute_result"
    }
   ],
   "source": [
    "dict_info.keys()"
   ]
  },
  {
   "cell_type": "code",
   "execution_count": 13,
   "metadata": {},
   "outputs": [
    {
     "data": {
      "text/plain": [
       "{'userId': 1320976,\n",
       " 'userBlocked': [],\n",
       " 'chipsCount': 0,\n",
       " 'locationCityName': 'Днепр (Днепропетровск)',\n",
       " 'cityLocative': 'Днепре',\n",
       " 'auctionPossible': True,\n",
       " 'exchangePossible': False,\n",
       " 'realtyExchange': False,\n",
       " 'exchangeType': 'Любой',\n",
       " 'exchangeTypeId': 0,\n",
       " 'addDate': '2018-09-24 00:01:51',\n",
       " 'updateDate': '2018-09-24 00:01:51',\n",
       " 'expireDate': '2018-12-12 11:19:01',\n",
       " 'soldDate': '',\n",
       " 'userHideADSStatus': False,\n",
       " 'userPhoneData': {'phoneId': '4012612', 'phone': '(063) 044-03-92'},\n",
       " 'USD': 7500,\n",
       " 'UAH': 210375,\n",
       " 'EUR': 6483,\n",
       " 'isAutoAddedByPartner': False,\n",
       " 'partnerId': 0,\n",
       " 'levelData': {'level': 0, 'label': 0, 'hotType': '', 'expireDate': ''},\n",
       " 'autoData': {'active': True,\n",
       "  'description': 'Идеальное техническое состояние! Авто 2009  куплен в  июне  2010 года у официального дилера, очень экономичный, резвый автомобиль, расход по городу и за городом приятно удивляет. Проблем с автомобилем не было и не будет. Защита двигателя!!!, итальянская сборка, двухсторонняя оцинковка кузова,, сервисная книжка. Снятие с учета\\r\\nПродаю автомобиль, так как для нашей семьи он стал маловат.\\r\\n\\r\\n',\n",
       "  'version': '',\n",
       "  'onModeration': False,\n",
       "  'year': 2010,\n",
       "  'autoId': 12559501,\n",
       "  'bodyId': 4,\n",
       "  'statusId': 0,\n",
       "  'withVideo': False,\n",
       "  'race': '55 тыс. км',\n",
       "  'raceInt': 55,\n",
       "  'fuelName': 'Бензин, 1.4 л.',\n",
       "  'fuelNameEng': 'benzin',\n",
       "  'gearboxName': 'Автомат',\n",
       "  'isSold': False,\n",
       "  'mainCurrency': 'USD',\n",
       "  'fromArchive': False,\n",
       "  'categoryId': 1,\n",
       "  'categoryNameEng': 'legkovie',\n",
       "  'subCategoryNameEng': 'khetchbek',\n",
       "  'custom': 0},\n",
       " 'markName': 'Fiat',\n",
       " 'markNameEng': 'fiat',\n",
       " 'markId': 23,\n",
       " 'modelName': 'Grande Punto',\n",
       " 'modelNameEng': 'grande-punto',\n",
       " 'modelId': 2635,\n",
       " 'photoData': {'count': 16,\n",
       "  'seoLinkM': 'https://cdn3.riastatic.com/photosnew/auto/photo/fiat_grande-punto__213715068m.jpg',\n",
       "  'seoLinkSX': 'https://cdn3.riastatic.com/photosnew/auto/photo/fiat_grande-punto__213715068sx.jpg',\n",
       "  'seoLinkB': 'https://cdn3.riastatic.com/photosnew/auto/photo/fiat_grande-punto__213715068b.jpg',\n",
       "  'seoLinkF': 'https://cdn3.riastatic.com/photosnew/auto/photo/fiat_grande-punto__213715068f.jpg'},\n",
       " 'linkToView': '/auto_fiat_grande_punto_12559501.html',\n",
       " 'title': 'Fiat Grande Punto',\n",
       " 'stateData': {'name': 'Днепр (Днепропетровск)',\n",
       "  'regionName': 'Днепропетровская',\n",
       "  'regionNameEng': 'dnepr-dnepropetrovsk',\n",
       "  'linkToCatalog': '/city/dnepr-dnepropetrovsk/',\n",
       "  'title': 'Поиск объявлений по городу Днепр (Днепропетровск)',\n",
       "  'stateId': 11,\n",
       "  'cityId': 11},\n",
       " 'oldTop': {'isActive': False, 'expireDate': ''},\n",
       " 'canSetSpecificPhoneToAdvert': False,\n",
       " 'dontComment': 0,\n",
       " 'sendComments': 0,\n",
       " 'badges': [],\n",
       " 'checkedVin': {'vin': '',\n",
       "  'isShow': False,\n",
       "  'linkToReport': '/vin-check/auto/12559501/',\n",
       "  'hasRestrictions': False,\n",
       "  'checkDate': '17.10.2018',\n",
       "  'isChecked': False},\n",
       " 'hasWebP': 2,\n",
       " 'isLeasing': 0,\n",
       " 'dealer': {'link': '',\n",
       "  'logo': '',\n",
       "  'type': '',\n",
       "  'id': 0,\n",
       "  'name': '',\n",
       "  'packageId': 0,\n",
       "  'typeId': 0},\n",
       " 'withInfoBar': False,\n",
       " 'infoBarText': '',\n",
       " 'optionStyles': []}"
      ]
     },
     "execution_count": 13,
     "metadata": {},
     "output_type": "execute_result"
    }
   ],
   "source": [
    "resp_car.json()"
   ]
  },
  {
   "cell_type": "code",
   "execution_count": 14,
   "metadata": {},
   "outputs": [
    {
     "data": {
      "text/plain": [
       "'1.4'"
      ]
     },
     "execution_count": 14,
     "metadata": {},
     "output_type": "execute_result"
    }
   ],
   "source": [
    "dict_info['autoData']['fuelName'].split(', ')[1].split(' ')[0]"
   ]
  },
  {
   "cell_type": "code",
   "execution_count": 15,
   "metadata": {},
   "outputs": [
    {
     "data": {
      "text/plain": [
       "'1.4'"
      ]
     },
     "execution_count": 15,
     "metadata": {},
     "output_type": "execute_result"
    }
   ],
   "source": [
    "re.search('[0-9.]+', dict_info['autoData']['fuelName'])[0]"
   ]
  },
  {
   "cell_type": "code",
   "execution_count": 16,
   "metadata": {},
   "outputs": [
    {
     "data": {
      "text/plain": [
       "16"
      ]
     },
     "execution_count": 16,
     "metadata": {},
     "output_type": "execute_result"
    }
   ],
   "source": [
    "dict_info['photoData']['count']"
   ]
  },
  {
   "cell_type": "code",
   "execution_count": 17,
   "metadata": {
    "scrolled": true
   },
   "outputs": [
    {
     "data": {
      "text/plain": [
       "7500"
      ]
     },
     "execution_count": 17,
     "metadata": {},
     "output_type": "execute_result"
    }
   ],
   "source": [
    "dict_info['USD']"
   ]
  },
  {
   "cell_type": "code",
   "execution_count": 18,
   "metadata": {},
   "outputs": [
    {
     "data": {
      "text/plain": [
       "'Fiat'"
      ]
     },
     "execution_count": 18,
     "metadata": {},
     "output_type": "execute_result"
    }
   ],
   "source": [
    "dict_info['markName']"
   ]
  },
  {
   "cell_type": "code",
   "execution_count": 19,
   "metadata": {},
   "outputs": [
    {
     "data": {
      "text/plain": [
       "'Grande Punto'"
      ]
     },
     "execution_count": 19,
     "metadata": {},
     "output_type": "execute_result"
    }
   ],
   "source": [
    "dict_info['modelName']"
   ]
  },
  {
   "cell_type": "code",
   "execution_count": 20,
   "metadata": {},
   "outputs": [
    {
     "data": {
      "text/plain": [
       "'dnepr-dnepropetrovsk'"
      ]
     },
     "execution_count": 20,
     "metadata": {},
     "output_type": "execute_result"
    }
   ],
   "source": [
    "dict_info['stateData']['regionNameEng']"
   ]
  },
  {
   "cell_type": "code",
   "execution_count": 21,
   "metadata": {},
   "outputs": [
    {
     "data": {
      "text/plain": [
       "1320976"
      ]
     },
     "execution_count": 21,
     "metadata": {},
     "output_type": "execute_result"
    }
   ],
   "source": [
    "dict_info['userId']"
   ]
  },
  {
   "cell_type": "code",
   "execution_count": 22,
   "metadata": {},
   "outputs": [
    {
     "data": {
      "text/plain": [
       "'(063) 044-03-92'"
      ]
     },
     "execution_count": 22,
     "metadata": {},
     "output_type": "execute_result"
    }
   ],
   "source": [
    "dict_info['userPhoneData']['phone']"
   ]
  },
  {
   "cell_type": "code",
   "execution_count": 23,
   "metadata": {},
   "outputs": [
    {
     "data": {
      "text/plain": [
       "'Днепр (Днепропетровск)'"
      ]
     },
     "execution_count": 23,
     "metadata": {},
     "output_type": "execute_result"
    }
   ],
   "source": [
    "dict_info['locationCityName']"
   ]
  },
  {
   "cell_type": "code",
   "execution_count": 24,
   "metadata": {},
   "outputs": [
    {
     "data": {
      "text/plain": [
       "'fiat'"
      ]
     },
     "execution_count": 24,
     "metadata": {},
     "output_type": "execute_result"
    }
   ],
   "source": [
    "dict_info['markNameEng']"
   ]
  },
  {
   "cell_type": "code",
   "execution_count": 25,
   "metadata": {},
   "outputs": [
    {
     "data": {
      "text/plain": [
       "'grande-punto'"
      ]
     },
     "execution_count": 25,
     "metadata": {},
     "output_type": "execute_result"
    }
   ],
   "source": [
    "dict_info['modelNameEng']"
   ]
  },
  {
   "cell_type": "code",
   "execution_count": 26,
   "metadata": {},
   "outputs": [
    {
     "data": {
      "text/plain": [
       "4"
      ]
     },
     "execution_count": 26,
     "metadata": {},
     "output_type": "execute_result"
    }
   ],
   "source": [
    "dict_info['autoData']['bodyId']"
   ]
  },
  {
   "cell_type": "code",
   "execution_count": 27,
   "metadata": {},
   "outputs": [
    {
     "data": {
      "text/plain": [
       "55"
      ]
     },
     "execution_count": 27,
     "metadata": {},
     "output_type": "execute_result"
    }
   ],
   "source": [
    "dict_info['autoData']['raceInt']"
   ]
  },
  {
   "cell_type": "code",
   "execution_count": 28,
   "metadata": {},
   "outputs": [
    {
     "data": {
      "text/plain": [
       "0"
      ]
     },
     "execution_count": 28,
     "metadata": {},
     "output_type": "execute_result"
    }
   ],
   "source": [
    "dict_info['autoData']['custom']"
   ]
  },
  {
   "cell_type": "code",
   "execution_count": 29,
   "metadata": {},
   "outputs": [
    {
     "data": {
      "text/plain": [
       "'Бензин, 1.4 л.'"
      ]
     },
     "execution_count": 29,
     "metadata": {},
     "output_type": "execute_result"
    }
   ],
   "source": [
    "dict_info['autoData']['fuelName']"
   ]
  },
  {
   "cell_type": "code",
   "execution_count": 30,
   "metadata": {},
   "outputs": [
    {
     "data": {
      "text/plain": [
       "'benzin'"
      ]
     },
     "execution_count": 30,
     "metadata": {},
     "output_type": "execute_result"
    }
   ],
   "source": [
    "dict_info['autoData']['fuelNameEng']"
   ]
  },
  {
   "cell_type": "code",
   "execution_count": 31,
   "metadata": {},
   "outputs": [
    {
     "data": {
      "text/plain": [
       "'Автомат'"
      ]
     },
     "execution_count": 31,
     "metadata": {},
     "output_type": "execute_result"
    }
   ],
   "source": [
    "dict_info['autoData']['gearboxName']"
   ]
  },
  {
   "cell_type": "code",
   "execution_count": 32,
   "metadata": {},
   "outputs": [
    {
     "data": {
      "text/plain": [
       "'khetchbek'"
      ]
     },
     "execution_count": 32,
     "metadata": {},
     "output_type": "execute_result"
    }
   ],
   "source": [
    "dict_info['autoData']['subCategoryNameEng']"
   ]
  },
  {
   "cell_type": "code",
   "execution_count": 33,
   "metadata": {},
   "outputs": [
    {
     "data": {
      "text/plain": [
       "2010"
      ]
     },
     "execution_count": 33,
     "metadata": {},
     "output_type": "execute_result"
    }
   ],
   "source": [
    "dict_info['autoData']['year']"
   ]
  },
  {
   "cell_type": "markdown",
   "metadata": {},
   "source": [
    "### Choose options that are necessary"
   ]
  },
  {
   "cell_type": "code",
   "execution_count": 34,
   "metadata": {},
   "outputs": [
    {
     "data": {
      "text/plain": [
       "'(063) 044-03-92'"
      ]
     },
     "execution_count": 34,
     "metadata": {},
     "output_type": "execute_result"
    }
   ],
   "source": [
    "dict_info['USD']\n",
    "dict_info['markName']\n",
    "dict_info['modelName']\n",
    "dict_info['markNameEng']\n",
    "dict_info['modelNameEng']\n",
    "dict_info['photoData']['count']\n",
    "dict_info['autoData']['raceInt']\n",
    "dict_info['autoData']['custom']\n",
    "dict_info['autoData']['fuelName']\n",
    "dict_info['autoData']['fuelNameEng']\n",
    "dict_info['autoData']['gearboxName']\n",
    "dict_info['autoData']['year']\n",
    "dict_info['autoData']['subCategoryNameEng']\n",
    "dict_info['stateData']['regionNameEng']\n",
    "dict_info['locationCityName']\n",
    "dict_info['userId']\n",
    "dict_info['userPhoneData']['phone']"
   ]
  },
  {
   "cell_type": "markdown",
   "metadata": {},
   "source": [
    "## Test read-write operations"
   ]
  },
  {
   "cell_type": "code",
   "execution_count": 35,
   "metadata": {},
   "outputs": [],
   "source": [
    "raw_info_file = open('test/raw_json/12559501.json', \"w\")\n",
    "json.dump(dict_info,raw_info_file, ensure_ascii=False)\n",
    "raw_info_file.close()"
   ]
  },
  {
   "cell_type": "code",
   "execution_count": 36,
   "metadata": {},
   "outputs": [
    {
     "data": {
      "text/plain": [
       "{'userId': 1320976,\n",
       " 'userBlocked': [],\n",
       " 'chipsCount': 0,\n",
       " 'locationCityName': 'Днепр (Днепропетровск)',\n",
       " 'cityLocative': 'Днепре',\n",
       " 'auctionPossible': True,\n",
       " 'exchangePossible': False,\n",
       " 'realtyExchange': False,\n",
       " 'exchangeType': 'Любой',\n",
       " 'exchangeTypeId': 0,\n",
       " 'addDate': '2018-09-24 00:01:51',\n",
       " 'updateDate': '2018-09-24 00:01:51',\n",
       " 'expireDate': '2018-12-12 11:19:01',\n",
       " 'soldDate': '',\n",
       " 'userHideADSStatus': False,\n",
       " 'userPhoneData': {'phoneId': '4012612', 'phone': '(063) 044-03-92'},\n",
       " 'USD': 7500,\n",
       " 'UAH': 210375,\n",
       " 'EUR': 6483,\n",
       " 'isAutoAddedByPartner': False,\n",
       " 'partnerId': 0,\n",
       " 'levelData': {'level': 0, 'label': 0, 'hotType': '', 'expireDate': ''},\n",
       " 'autoData': {'active': True,\n",
       "  'description': 'Идеальное техническое состояние! Авто 2009  куплен в  июне  2010 года у официального дилера, очень экономичный, резвый автомобиль, расход по городу и за городом приятно удивляет. Проблем с автомобилем не было и не будет. Защита двигателя!!!, итальянская сборка, двухсторонняя оцинковка кузова,, сервисная книжка. Снятие с учета\\r\\nПродаю автомобиль, так как для нашей семьи он стал маловат.\\r\\n\\r\\n',\n",
       "  'version': '',\n",
       "  'onModeration': False,\n",
       "  'year': 2010,\n",
       "  'autoId': 12559501,\n",
       "  'bodyId': 4,\n",
       "  'statusId': 0,\n",
       "  'withVideo': False,\n",
       "  'race': '55 тыс. км',\n",
       "  'raceInt': 55,\n",
       "  'fuelName': 'Бензин, 1.4 л.',\n",
       "  'fuelNameEng': 'benzin',\n",
       "  'gearboxName': 'Автомат',\n",
       "  'isSold': False,\n",
       "  'mainCurrency': 'USD',\n",
       "  'fromArchive': False,\n",
       "  'categoryId': 1,\n",
       "  'categoryNameEng': 'legkovie',\n",
       "  'subCategoryNameEng': 'khetchbek',\n",
       "  'custom': 0},\n",
       " 'markName': 'Fiat',\n",
       " 'markNameEng': 'fiat',\n",
       " 'markId': 23,\n",
       " 'modelName': 'Grande Punto',\n",
       " 'modelNameEng': 'grande-punto',\n",
       " 'modelId': 2635,\n",
       " 'photoData': {'count': 16,\n",
       "  'seoLinkM': 'https://cdn3.riastatic.com/photosnew/auto/photo/fiat_grande-punto__213715068m.jpg',\n",
       "  'seoLinkSX': 'https://cdn3.riastatic.com/photosnew/auto/photo/fiat_grande-punto__213715068sx.jpg',\n",
       "  'seoLinkB': 'https://cdn3.riastatic.com/photosnew/auto/photo/fiat_grande-punto__213715068b.jpg',\n",
       "  'seoLinkF': 'https://cdn3.riastatic.com/photosnew/auto/photo/fiat_grande-punto__213715068f.jpg'},\n",
       " 'linkToView': '/auto_fiat_grande_punto_12559501.html',\n",
       " 'title': 'Fiat Grande Punto',\n",
       " 'stateData': {'name': 'Днепр (Днепропетровск)',\n",
       "  'regionName': 'Днепропетровская',\n",
       "  'regionNameEng': 'dnepr-dnepropetrovsk',\n",
       "  'linkToCatalog': '/city/dnepr-dnepropetrovsk/',\n",
       "  'title': 'Поиск объявлений по городу Днепр (Днепропетровск)',\n",
       "  'stateId': 11,\n",
       "  'cityId': 11},\n",
       " 'oldTop': {'isActive': False, 'expireDate': ''},\n",
       " 'canSetSpecificPhoneToAdvert': False,\n",
       " 'dontComment': 0,\n",
       " 'sendComments': 0,\n",
       " 'badges': [],\n",
       " 'checkedVin': {'vin': '',\n",
       "  'isShow': False,\n",
       "  'linkToReport': '/vin-check/auto/12559501/',\n",
       "  'hasRestrictions': False,\n",
       "  'checkDate': '17.10.2018',\n",
       "  'isChecked': False},\n",
       " 'hasWebP': 2,\n",
       " 'isLeasing': 0,\n",
       " 'dealer': {'link': '',\n",
       "  'logo': '',\n",
       "  'type': '',\n",
       "  'id': 0,\n",
       "  'name': '',\n",
       "  'packageId': 0,\n",
       "  'typeId': 0},\n",
       " 'withInfoBar': False,\n",
       " 'infoBarText': '',\n",
       " 'optionStyles': []}"
      ]
     },
     "execution_count": 36,
     "metadata": {},
     "output_type": "execute_result"
    }
   ],
   "source": [
    "raw_info_file = open('test/raw_json/12559501.json')\n",
    "data = json.load(raw_info_file)\n",
    "raw_info_file.close()\n",
    "data"
   ]
  },
  {
   "cell_type": "code",
   "execution_count": 37,
   "metadata": {},
   "outputs": [],
   "source": [
    "def add_info_to_csv(ido, dict_info, file):\n",
    "    #write\n",
    "    file.write(ido)\n",
    "    file.write(',')\n",
    "    file.write(str(dict_info['USD']))\n",
    "    file.write(',')\n",
    "    \n",
    "    file.write(dict_info['markName'])\n",
    "    file.write(',')\n",
    "    file.write(dict_info['modelName'])\n",
    "    file.write(',')\n",
    "    file.write(dict_info['markNameEng'])\n",
    "    file.write(',')\n",
    "    file.write(dict_info['modelNameEng'])\n",
    "    file.write(',')\n",
    "    \n",
    "    file.write(str(dict_info['autoData']['raceInt']))\n",
    "    file.write(',')\n",
    "    file.write(str(dict_info['autoData']['year']))\n",
    "    file.write(',')\n",
    "    file.write(dict_info['autoData']['subCategoryNameEng'])\n",
    "    file.write(',')\n",
    "    file.write(dict_info['autoData']['fuelName'].split(', ')[1].split(' ')[0])\n",
    "    file.write(',')\n",
    "    file.write(dict_info['autoData']['fuelNameEng'])\n",
    "    file.write(',')\n",
    "    file.write(dict_info['autoData']['gearboxName'])\n",
    "    file.write(',')\n",
    "    \n",
    "    file.write(str(dict_info['autoData']['custom']))\n",
    "    file.write(',')\n",
    "    file.write(dict_info['stateData']['regionNameEng'])\n",
    "    file.write(',')\n",
    "    file.write(dict_info['locationCityName'])\n",
    "    file.write(',')\n",
    "    file.write(str(dict_info['photoData']['count']))\n",
    "    file.write(',')\n",
    "    file.write(str(dict_info['userId']))\n",
    "    file.write(',')\n",
    "    file.write(dict_info['userPhoneData']['phone'])\n",
    "    \n",
    "    \n",
    "    file.write('\\n')\n",
    "    file.close()\n",
    "    return _"
   ]
  },
  {
   "cell_type": "code",
   "execution_count": 39,
   "metadata": {},
   "outputs": [],
   "source": [
    "all_csv_file = open(\"test/all-test.csv\", \"a\", encoding='utf-8')\n",
    "add_info_to_csv('12559501', dict_info, all_csv_file);"
   ]
  },
  {
   "cell_type": "markdown",
   "metadata": {
    "collapsed": true
   },
   "source": [
    "## Get other necessary info for further work"
   ]
  },
  {
   "cell_type": "code",
   "execution_count": 40,
   "metadata": {},
   "outputs": [
    {
     "data": {
      "text/plain": [
       "[{'name': 'Седан', 'value': 3},\n",
       " {'name': 'Внедорожник / Кроссовер', 'value': 5},\n",
       " {'name': 'Минивэн', 'value': 8},\n",
       " {'name': 'Хэтчбек', 'value': 4},\n",
       " {'name': 'Универсал', 'value': 2},\n",
       " {'name': 'Купе', 'value': 6},\n",
       " {'name': 'Легковой фургон (до 1,5 т)', 'value': 254},\n",
       " {'name': 'Кабриолет', 'value': 7},\n",
       " {'name': 'Пикап', 'value': 9},\n",
       " {'name': 'Лифтбек', 'value': 307},\n",
       " {'name': 'Лимузин', 'value': 252},\n",
       " {'name': 'Другой', 'value': 28},\n",
       " {'name': 'Родстер', 'value': 315}]"
      ]
     },
     "execution_count": 40,
     "metadata": {},
     "output_type": "execute_result"
    }
   ],
   "source": [
    "getstr_type = 'https://developers.ria.com/auto/categories/1/bodystyles?api_key=' + api_key \n",
    "resp = requests.get(getstr_type)\n",
    "resp.json()"
   ]
  },
  {
   "cell_type": "code",
   "execution_count": 41,
   "metadata": {},
   "outputs": [
    {
     "data": {
      "text/plain": [
       "[{'name': 'Бензин', 'value': 1},\n",
       " {'name': 'Дизель', 'value': 2},\n",
       " {'name': 'Газ', 'value': 3},\n",
       " {'name': 'Газ/бензин', 'value': 4},\n",
       " {'name': 'Гибрид', 'value': 5},\n",
       " {'name': 'Электро', 'value': 6},\n",
       " {'name': 'Другое', 'value': 7},\n",
       " {'name': 'Газ метан', 'value': 8},\n",
       " {'name': 'Газ пропан-бутан', 'value': 9}]"
      ]
     },
     "execution_count": 41,
     "metadata": {},
     "output_type": "execute_result"
    }
   ],
   "source": [
    "getstr_type = 'https://developers.ria.com/auto/type?api_key=' + api_key \n",
    "resp = requests.get(getstr_type)\n",
    "resp.json()"
   ]
  },
  {
   "cell_type": "code",
   "execution_count": 42,
   "metadata": {},
   "outputs": [
    {
     "data": {
      "text/plain": [
       "[{'name': 'ABD', 'value': 354},\n",
       " {'name': 'ABS', 'value': 217},\n",
       " {'name': 'ESP', 'value': 459},\n",
       " {'name': 'Бронированный автомобиль', 'value': 515},\n",
       " {'name': 'Галогенные фары', 'value': 463},\n",
       " {'name': 'Замок на КПП', 'value': 481},\n",
       " {'name': 'Иммобилайзер', 'value': 225},\n",
       " {'name': 'Пневмоподвеска', 'value': 442},\n",
       " {'name': 'Подушка безопасности (Airbag)', 'value': 211},\n",
       " {'name': 'Серворуль', 'value': 485},\n",
       " {'name': 'Сигнализация', 'value': 303},\n",
       " {'name': 'Центральный замок', 'value': 137},\n",
       " {'name': 'Бортовой компьютер', 'value': 188},\n",
       " {'name': 'Датчик света', 'value': 437},\n",
       " {'name': 'Запуск кнопкой', 'value': 525},\n",
       " {'name': 'Климат контроль', 'value': 190},\n",
       " {'name': 'Кожаный салон', 'value': 125},\n",
       " {'name': 'Кондиционер', 'value': 189},\n",
       " {'name': 'Круиз контроль', 'value': 191},\n",
       " {'name': 'Люк', 'value': 132},\n",
       " {'name': 'Мультируль', 'value': 465},\n",
       " {'name': 'Омыватель фар', 'value': 441},\n",
       " {'name': 'Память сидений', 'value': 523},\n",
       " {'name': 'Парктроник', 'value': 192},\n",
       " {'name': 'Подогрев зеркал', 'value': 443},\n",
       " {'name': 'Подогрев руля', 'value': 524},\n",
       " {'name': 'Подогрев сидений', 'value': 193},\n",
       " {'name': 'Сенсор дождя', 'value': 255},\n",
       " {'name': 'Усилитель руля', 'value': 104},\n",
       " {'name': 'Эл. стеклоподъемники', 'value': 139},\n",
       " {'name': 'Электропакет', 'value': 452},\n",
       " {'name': 'CD', 'value': 407},\n",
       " {'name': 'DVD', 'value': 408},\n",
       " {'name': 'MP3', 'value': 433},\n",
       " {'name': 'Акустика', 'value': 258},\n",
       " {'name': 'Магнитола', 'value': 175},\n",
       " {'name': 'Сабвуфер', 'value': 241},\n",
       " {'name': 'Система навигации GPS', 'value': 355},\n",
       " {'name': 'Газовая установка  (ГБО)', 'value': 246},\n",
       " {'name': 'Дерево', 'value': 460},\n",
       " {'name': 'Длинная база', 'value': 504},\n",
       " {'name': 'Кузов MAXI', 'value': 503},\n",
       " {'name': 'Правый руль', 'value': 495},\n",
       " {'name': 'Тонирование стекол', 'value': 486},\n",
       " {'name': 'Тюнинг', 'value': 475},\n",
       " {'name': 'Фаркоп', 'value': 462},\n",
       " {'name': 'Гаражное хранение', 'value': 477},\n",
       " {'name': 'Индивидуальная комплектация', 'value': 513},\n",
       " {'name': 'Не бит', 'value': 497},\n",
       " {'name': 'Не крашен', 'value': 498},\n",
       " {'name': 'Первая регистрация', 'value': 501},\n",
       " {'name': 'Первый владелец', 'value': 496},\n",
       " {'name': 'Пригоню под заказ', 'value': 512},\n",
       " {'name': 'Ручное управление', 'value': 502},\n",
       " {'name': 'Сервисная книжка', 'value': 484},\n",
       " {'name': 'Требует ремонта', 'value': 522}]"
      ]
     },
     "execution_count": 42,
     "metadata": {},
     "output_type": "execute_result"
    }
   ],
   "source": [
    "getstr_options = 'https://developers.ria.com/auto/categories/1/options?api_key=' + api_key \n",
    "resp = requests.get(getstr_options)\n",
    "resp.json()"
   ]
  },
  {
   "cell_type": "code",
   "execution_count": 43,
   "metadata": {},
   "outputs": [
    {
     "data": {
      "text/plain": [
       "[{'name': 'Полный', 'value': 1},\n",
       " {'name': 'Передний', 'value': 2},\n",
       " {'name': 'Задний', 'value': 3}]"
      ]
     },
     "execution_count": 43,
     "metadata": {},
     "output_type": "execute_result"
    }
   ],
   "source": [
    "getstr_options = 'https://developers.ria.com/auto/categories/1/driverTypes?api_key=' + api_key \n",
    "resp = requests.get(getstr_options)\n",
    "resp.json()"
   ]
  }
 ],
 "metadata": {
  "kernelspec": {
   "display_name": "Python 3",
   "language": "python",
   "name": "python3"
  },
  "language_info": {
   "codemirror_mode": {
    "name": "ipython",
    "version": 3
   },
   "file_extension": ".py",
   "mimetype": "text/x-python",
   "name": "python",
   "nbconvert_exporter": "python",
   "pygments_lexer": "ipython3",
   "version": "3.7.0"
  }
 },
 "nbformat": 4,
 "nbformat_minor": 2
}
